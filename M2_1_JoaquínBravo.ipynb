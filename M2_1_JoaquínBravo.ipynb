{
  "nbformat": 4,
  "nbformat_minor": 0,
  "metadata": {
    "colab": {
      "name": "M2-1-JoaquínBravo.ipynb",
      "provenance": [],
      "collapsed_sections": []
    },
    "kernelspec": {
      "name": "python3",
      "display_name": "Python 3"
    },
    "language_info": {
      "name": "python"
    }
  },
  "cells": [
    {
      "cell_type": "markdown",
      "source": [
        "# Actividad M2.1 Uso de Google Colab\n",
        "\n",
        "Joaquín Bravo García A00830409"
      ],
      "metadata": {
        "id": "EwF7Ragsa-bW"
      }
    },
    {
      "cell_type": "markdown",
      "source": [
        "**HOLA JOAQUIN, SOY EDER**"
      ],
      "metadata": {
        "id": "74udrE7ZX6Hv"
      }
    },
    {
      "cell_type": "code",
      "source": [
        "import pandas as pd"
      ],
      "metadata": {
        "id": "ajTe6TXfbFDC"
      },
      "execution_count": null,
      "outputs": []
    },
    {
      "cell_type": "markdown",
      "source": [
        "## Lectura de datos\n",
        "\n",
        "Prepara Google Colab para acceder a datos en Google Drive (mount)\n",
        "\n",
        "Guarda en un dataframe el contenido del dataset proporcionado.\n",
        "\n",
        "Verifica que el archivo cargado en Google Colab corresponde con el archivo csv, mostrando  los primeros y los últimos renglones del \"data frame\" y \n",
        "comparándolos con los datos correspondientes en el archivo CSV."
      ],
      "metadata": {
        "id": "9JzaAMHObLLU"
      }
    },
    {
      "cell_type": "code",
      "source": [
        "from google.colab import drive\n",
        "import pandas as pd\n",
        "drive.mount('/content/gdrive')\n",
        "\n",
        "\n"
      ],
      "metadata": {
        "id": "vR0eIgiJbNhM",
        "colab": {
          "base_uri": "https://localhost:8080/"
        },
        "outputId": "4689f94e-1ca3-4335-89ba-9a16e4513d5a"
      },
      "execution_count": null,
      "outputs": [
        {
          "output_type": "stream",
          "name": "stdout",
          "text": [
            "Drive already mounted at /content/gdrive; to attempt to forcibly remount, call drive.mount(\"/content/gdrive\", force_remount=True).\n"
          ]
        }
      ]
    },
    {
      "cell_type": "code",
      "source": [
        "cd \"/content/gdrive/My Drive/TC2004B\"\n"
      ],
      "metadata": {
        "colab": {
          "base_uri": "https://localhost:8080/"
        },
        "id": "82gFznliIJsr",
        "outputId": "cd6a7e2b-e433-4aad-e55d-30790d976d6b"
      },
      "execution_count": null,
      "outputs": [
        {
          "output_type": "stream",
          "name": "stdout",
          "text": [
            "/content/gdrive/My Drive/TC2004B\n"
          ]
        }
      ]
    },
    {
      "cell_type": "code",
      "source": [
        "\n",
        "mis_datos = pd.read_csv(\"titanic.csv\")\n",
        "mis_datos.head()\n"
      ],
      "metadata": {
        "colab": {
          "base_uri": "https://localhost:8080/",
          "height": 206
        },
        "id": "HnQBgNwPI8_0",
        "outputId": "d96e54af-43ec-4bb2-89db-33b0247a128d"
      },
      "execution_count": null,
      "outputs": [
        {
          "output_type": "execute_result",
          "data": {
            "text/plain": [
              "   PassengerId  Survived  Pclass  \\\n",
              "0            1         0       3   \n",
              "1            2         1       1   \n",
              "2            3         1       3   \n",
              "3            4         1       1   \n",
              "4            5         0       3   \n",
              "\n",
              "                                                Name     Sex   Age  SibSp  \\\n",
              "0                            Braund, Mr. Owen Harris    male  22.0      1   \n",
              "1  Cumings, Mrs. John Bradley (Florence Briggs Th...  female  38.0      1   \n",
              "2                             Heikkinen, Miss. Laina  female  26.0      0   \n",
              "3       Futrelle, Mrs. Jacques Heath (Lily May Peel)  female  35.0      1   \n",
              "4                           Allen, Mr. William Henry    male  35.0      0   \n",
              "\n",
              "   Parch            Ticket     Fare Cabin Embarked  \n",
              "0      0         A/5 21171   7.2500   NaN        S  \n",
              "1      0          PC 17599  71.2833   C85        C  \n",
              "2      0  STON/O2. 3101282   7.9250   NaN        S  \n",
              "3      0            113803  53.1000  C123        S  \n",
              "4      0            373450   8.0500   NaN        S  "
            ],
            "text/html": [
              "\n",
              "  <div id=\"df-6187019d-2d9b-41b9-bd13-15f21fa1b55a\">\n",
              "    <div class=\"colab-df-container\">\n",
              "      <div>\n",
              "<style scoped>\n",
              "    .dataframe tbody tr th:only-of-type {\n",
              "        vertical-align: middle;\n",
              "    }\n",
              "\n",
              "    .dataframe tbody tr th {\n",
              "        vertical-align: top;\n",
              "    }\n",
              "\n",
              "    .dataframe thead th {\n",
              "        text-align: right;\n",
              "    }\n",
              "</style>\n",
              "<table border=\"1\" class=\"dataframe\">\n",
              "  <thead>\n",
              "    <tr style=\"text-align: right;\">\n",
              "      <th></th>\n",
              "      <th>PassengerId</th>\n",
              "      <th>Survived</th>\n",
              "      <th>Pclass</th>\n",
              "      <th>Name</th>\n",
              "      <th>Sex</th>\n",
              "      <th>Age</th>\n",
              "      <th>SibSp</th>\n",
              "      <th>Parch</th>\n",
              "      <th>Ticket</th>\n",
              "      <th>Fare</th>\n",
              "      <th>Cabin</th>\n",
              "      <th>Embarked</th>\n",
              "    </tr>\n",
              "  </thead>\n",
              "  <tbody>\n",
              "    <tr>\n",
              "      <th>0</th>\n",
              "      <td>1</td>\n",
              "      <td>0</td>\n",
              "      <td>3</td>\n",
              "      <td>Braund, Mr. Owen Harris</td>\n",
              "      <td>male</td>\n",
              "      <td>22.0</td>\n",
              "      <td>1</td>\n",
              "      <td>0</td>\n",
              "      <td>A/5 21171</td>\n",
              "      <td>7.2500</td>\n",
              "      <td>NaN</td>\n",
              "      <td>S</td>\n",
              "    </tr>\n",
              "    <tr>\n",
              "      <th>1</th>\n",
              "      <td>2</td>\n",
              "      <td>1</td>\n",
              "      <td>1</td>\n",
              "      <td>Cumings, Mrs. John Bradley (Florence Briggs Th...</td>\n",
              "      <td>female</td>\n",
              "      <td>38.0</td>\n",
              "      <td>1</td>\n",
              "      <td>0</td>\n",
              "      <td>PC 17599</td>\n",
              "      <td>71.2833</td>\n",
              "      <td>C85</td>\n",
              "      <td>C</td>\n",
              "    </tr>\n",
              "    <tr>\n",
              "      <th>2</th>\n",
              "      <td>3</td>\n",
              "      <td>1</td>\n",
              "      <td>3</td>\n",
              "      <td>Heikkinen, Miss. Laina</td>\n",
              "      <td>female</td>\n",
              "      <td>26.0</td>\n",
              "      <td>0</td>\n",
              "      <td>0</td>\n",
              "      <td>STON/O2. 3101282</td>\n",
              "      <td>7.9250</td>\n",
              "      <td>NaN</td>\n",
              "      <td>S</td>\n",
              "    </tr>\n",
              "    <tr>\n",
              "      <th>3</th>\n",
              "      <td>4</td>\n",
              "      <td>1</td>\n",
              "      <td>1</td>\n",
              "      <td>Futrelle, Mrs. Jacques Heath (Lily May Peel)</td>\n",
              "      <td>female</td>\n",
              "      <td>35.0</td>\n",
              "      <td>1</td>\n",
              "      <td>0</td>\n",
              "      <td>113803</td>\n",
              "      <td>53.1000</td>\n",
              "      <td>C123</td>\n",
              "      <td>S</td>\n",
              "    </tr>\n",
              "    <tr>\n",
              "      <th>4</th>\n",
              "      <td>5</td>\n",
              "      <td>0</td>\n",
              "      <td>3</td>\n",
              "      <td>Allen, Mr. William Henry</td>\n",
              "      <td>male</td>\n",
              "      <td>35.0</td>\n",
              "      <td>0</td>\n",
              "      <td>0</td>\n",
              "      <td>373450</td>\n",
              "      <td>8.0500</td>\n",
              "      <td>NaN</td>\n",
              "      <td>S</td>\n",
              "    </tr>\n",
              "  </tbody>\n",
              "</table>\n",
              "</div>\n",
              "      <button class=\"colab-df-convert\" onclick=\"convertToInteractive('df-6187019d-2d9b-41b9-bd13-15f21fa1b55a')\"\n",
              "              title=\"Convert this dataframe to an interactive table.\"\n",
              "              style=\"display:none;\">\n",
              "        \n",
              "  <svg xmlns=\"http://www.w3.org/2000/svg\" height=\"24px\"viewBox=\"0 0 24 24\"\n",
              "       width=\"24px\">\n",
              "    <path d=\"M0 0h24v24H0V0z\" fill=\"none\"/>\n",
              "    <path d=\"M18.56 5.44l.94 2.06.94-2.06 2.06-.94-2.06-.94-.94-2.06-.94 2.06-2.06.94zm-11 1L8.5 8.5l.94-2.06 2.06-.94-2.06-.94L8.5 2.5l-.94 2.06-2.06.94zm10 10l.94 2.06.94-2.06 2.06-.94-2.06-.94-.94-2.06-.94 2.06-2.06.94z\"/><path d=\"M17.41 7.96l-1.37-1.37c-.4-.4-.92-.59-1.43-.59-.52 0-1.04.2-1.43.59L10.3 9.45l-7.72 7.72c-.78.78-.78 2.05 0 2.83L4 21.41c.39.39.9.59 1.41.59.51 0 1.02-.2 1.41-.59l7.78-7.78 2.81-2.81c.8-.78.8-2.07 0-2.86zM5.41 20L4 18.59l7.72-7.72 1.47 1.35L5.41 20z\"/>\n",
              "  </svg>\n",
              "      </button>\n",
              "      \n",
              "  <style>\n",
              "    .colab-df-container {\n",
              "      display:flex;\n",
              "      flex-wrap:wrap;\n",
              "      gap: 12px;\n",
              "    }\n",
              "\n",
              "    .colab-df-convert {\n",
              "      background-color: #E8F0FE;\n",
              "      border: none;\n",
              "      border-radius: 50%;\n",
              "      cursor: pointer;\n",
              "      display: none;\n",
              "      fill: #1967D2;\n",
              "      height: 32px;\n",
              "      padding: 0 0 0 0;\n",
              "      width: 32px;\n",
              "    }\n",
              "\n",
              "    .colab-df-convert:hover {\n",
              "      background-color: #E2EBFA;\n",
              "      box-shadow: 0px 1px 2px rgba(60, 64, 67, 0.3), 0px 1px 3px 1px rgba(60, 64, 67, 0.15);\n",
              "      fill: #174EA6;\n",
              "    }\n",
              "\n",
              "    [theme=dark] .colab-df-convert {\n",
              "      background-color: #3B4455;\n",
              "      fill: #D2E3FC;\n",
              "    }\n",
              "\n",
              "    [theme=dark] .colab-df-convert:hover {\n",
              "      background-color: #434B5C;\n",
              "      box-shadow: 0px 1px 3px 1px rgba(0, 0, 0, 0.15);\n",
              "      filter: drop-shadow(0px 1px 2px rgba(0, 0, 0, 0.3));\n",
              "      fill: #FFFFFF;\n",
              "    }\n",
              "  </style>\n",
              "\n",
              "      <script>\n",
              "        const buttonEl =\n",
              "          document.querySelector('#df-6187019d-2d9b-41b9-bd13-15f21fa1b55a button.colab-df-convert');\n",
              "        buttonEl.style.display =\n",
              "          google.colab.kernel.accessAllowed ? 'block' : 'none';\n",
              "\n",
              "        async function convertToInteractive(key) {\n",
              "          const element = document.querySelector('#df-6187019d-2d9b-41b9-bd13-15f21fa1b55a');\n",
              "          const dataTable =\n",
              "            await google.colab.kernel.invokeFunction('convertToInteractive',\n",
              "                                                     [key], {});\n",
              "          if (!dataTable) return;\n",
              "\n",
              "          const docLinkHtml = 'Like what you see? Visit the ' +\n",
              "            '<a target=\"_blank\" href=https://colab.research.google.com/notebooks/data_table.ipynb>data table notebook</a>'\n",
              "            + ' to learn more about interactive tables.';\n",
              "          element.innerHTML = '';\n",
              "          dataTable['output_type'] = 'display_data';\n",
              "          await google.colab.output.renderOutput(dataTable, element);\n",
              "          const docLink = document.createElement('div');\n",
              "          docLink.innerHTML = docLinkHtml;\n",
              "          element.appendChild(docLink);\n",
              "        }\n",
              "      </script>\n",
              "    </div>\n",
              "  </div>\n",
              "  "
            ]
          },
          "metadata": {},
          "execution_count": 18
        }
      ]
    },
    {
      "cell_type": "code",
      "source": [
        "mis_datos.tail()"
      ],
      "metadata": {
        "colab": {
          "base_uri": "https://localhost:8080/",
          "height": 206
        },
        "id": "gEF_5N6cJNed",
        "outputId": "602bbac2-2202-4abd-b20c-a16d30d0cf0c"
      },
      "execution_count": null,
      "outputs": [
        {
          "output_type": "execute_result",
          "data": {
            "text/plain": [
              "     PassengerId  Survived  Pclass                                      Name  \\\n",
              "886          887         0       2                     Montvila, Rev. Juozas   \n",
              "887          888         1       1              Graham, Miss. Margaret Edith   \n",
              "888          889         0       3  Johnston, Miss. Catherine Helen \"Carrie\"   \n",
              "889          890         1       1                     Behr, Mr. Karl Howell   \n",
              "890          891         0       3                       Dooley, Mr. Patrick   \n",
              "\n",
              "        Sex   Age  SibSp  Parch      Ticket   Fare Cabin Embarked  \n",
              "886    male  27.0      0      0      211536  13.00   NaN        S  \n",
              "887  female  19.0      0      0      112053  30.00   B42        S  \n",
              "888  female   NaN      1      2  W./C. 6607  23.45   NaN        S  \n",
              "889    male  26.0      0      0      111369  30.00  C148        C  \n",
              "890    male  32.0      0      0      370376   7.75   NaN        Q  "
            ],
            "text/html": [
              "\n",
              "  <div id=\"df-21e790d0-0779-4c7b-ab1d-42bcc96c12b5\">\n",
              "    <div class=\"colab-df-container\">\n",
              "      <div>\n",
              "<style scoped>\n",
              "    .dataframe tbody tr th:only-of-type {\n",
              "        vertical-align: middle;\n",
              "    }\n",
              "\n",
              "    .dataframe tbody tr th {\n",
              "        vertical-align: top;\n",
              "    }\n",
              "\n",
              "    .dataframe thead th {\n",
              "        text-align: right;\n",
              "    }\n",
              "</style>\n",
              "<table border=\"1\" class=\"dataframe\">\n",
              "  <thead>\n",
              "    <tr style=\"text-align: right;\">\n",
              "      <th></th>\n",
              "      <th>PassengerId</th>\n",
              "      <th>Survived</th>\n",
              "      <th>Pclass</th>\n",
              "      <th>Name</th>\n",
              "      <th>Sex</th>\n",
              "      <th>Age</th>\n",
              "      <th>SibSp</th>\n",
              "      <th>Parch</th>\n",
              "      <th>Ticket</th>\n",
              "      <th>Fare</th>\n",
              "      <th>Cabin</th>\n",
              "      <th>Embarked</th>\n",
              "    </tr>\n",
              "  </thead>\n",
              "  <tbody>\n",
              "    <tr>\n",
              "      <th>886</th>\n",
              "      <td>887</td>\n",
              "      <td>0</td>\n",
              "      <td>2</td>\n",
              "      <td>Montvila, Rev. Juozas</td>\n",
              "      <td>male</td>\n",
              "      <td>27.0</td>\n",
              "      <td>0</td>\n",
              "      <td>0</td>\n",
              "      <td>211536</td>\n",
              "      <td>13.00</td>\n",
              "      <td>NaN</td>\n",
              "      <td>S</td>\n",
              "    </tr>\n",
              "    <tr>\n",
              "      <th>887</th>\n",
              "      <td>888</td>\n",
              "      <td>1</td>\n",
              "      <td>1</td>\n",
              "      <td>Graham, Miss. Margaret Edith</td>\n",
              "      <td>female</td>\n",
              "      <td>19.0</td>\n",
              "      <td>0</td>\n",
              "      <td>0</td>\n",
              "      <td>112053</td>\n",
              "      <td>30.00</td>\n",
              "      <td>B42</td>\n",
              "      <td>S</td>\n",
              "    </tr>\n",
              "    <tr>\n",
              "      <th>888</th>\n",
              "      <td>889</td>\n",
              "      <td>0</td>\n",
              "      <td>3</td>\n",
              "      <td>Johnston, Miss. Catherine Helen \"Carrie\"</td>\n",
              "      <td>female</td>\n",
              "      <td>NaN</td>\n",
              "      <td>1</td>\n",
              "      <td>2</td>\n",
              "      <td>W./C. 6607</td>\n",
              "      <td>23.45</td>\n",
              "      <td>NaN</td>\n",
              "      <td>S</td>\n",
              "    </tr>\n",
              "    <tr>\n",
              "      <th>889</th>\n",
              "      <td>890</td>\n",
              "      <td>1</td>\n",
              "      <td>1</td>\n",
              "      <td>Behr, Mr. Karl Howell</td>\n",
              "      <td>male</td>\n",
              "      <td>26.0</td>\n",
              "      <td>0</td>\n",
              "      <td>0</td>\n",
              "      <td>111369</td>\n",
              "      <td>30.00</td>\n",
              "      <td>C148</td>\n",
              "      <td>C</td>\n",
              "    </tr>\n",
              "    <tr>\n",
              "      <th>890</th>\n",
              "      <td>891</td>\n",
              "      <td>0</td>\n",
              "      <td>3</td>\n",
              "      <td>Dooley, Mr. Patrick</td>\n",
              "      <td>male</td>\n",
              "      <td>32.0</td>\n",
              "      <td>0</td>\n",
              "      <td>0</td>\n",
              "      <td>370376</td>\n",
              "      <td>7.75</td>\n",
              "      <td>NaN</td>\n",
              "      <td>Q</td>\n",
              "    </tr>\n",
              "  </tbody>\n",
              "</table>\n",
              "</div>\n",
              "      <button class=\"colab-df-convert\" onclick=\"convertToInteractive('df-21e790d0-0779-4c7b-ab1d-42bcc96c12b5')\"\n",
              "              title=\"Convert this dataframe to an interactive table.\"\n",
              "              style=\"display:none;\">\n",
              "        \n",
              "  <svg xmlns=\"http://www.w3.org/2000/svg\" height=\"24px\"viewBox=\"0 0 24 24\"\n",
              "       width=\"24px\">\n",
              "    <path d=\"M0 0h24v24H0V0z\" fill=\"none\"/>\n",
              "    <path d=\"M18.56 5.44l.94 2.06.94-2.06 2.06-.94-2.06-.94-.94-2.06-.94 2.06-2.06.94zm-11 1L8.5 8.5l.94-2.06 2.06-.94-2.06-.94L8.5 2.5l-.94 2.06-2.06.94zm10 10l.94 2.06.94-2.06 2.06-.94-2.06-.94-.94-2.06-.94 2.06-2.06.94z\"/><path d=\"M17.41 7.96l-1.37-1.37c-.4-.4-.92-.59-1.43-.59-.52 0-1.04.2-1.43.59L10.3 9.45l-7.72 7.72c-.78.78-.78 2.05 0 2.83L4 21.41c.39.39.9.59 1.41.59.51 0 1.02-.2 1.41-.59l7.78-7.78 2.81-2.81c.8-.78.8-2.07 0-2.86zM5.41 20L4 18.59l7.72-7.72 1.47 1.35L5.41 20z\"/>\n",
              "  </svg>\n",
              "      </button>\n",
              "      \n",
              "  <style>\n",
              "    .colab-df-container {\n",
              "      display:flex;\n",
              "      flex-wrap:wrap;\n",
              "      gap: 12px;\n",
              "    }\n",
              "\n",
              "    .colab-df-convert {\n",
              "      background-color: #E8F0FE;\n",
              "      border: none;\n",
              "      border-radius: 50%;\n",
              "      cursor: pointer;\n",
              "      display: none;\n",
              "      fill: #1967D2;\n",
              "      height: 32px;\n",
              "      padding: 0 0 0 0;\n",
              "      width: 32px;\n",
              "    }\n",
              "\n",
              "    .colab-df-convert:hover {\n",
              "      background-color: #E2EBFA;\n",
              "      box-shadow: 0px 1px 2px rgba(60, 64, 67, 0.3), 0px 1px 3px 1px rgba(60, 64, 67, 0.15);\n",
              "      fill: #174EA6;\n",
              "    }\n",
              "\n",
              "    [theme=dark] .colab-df-convert {\n",
              "      background-color: #3B4455;\n",
              "      fill: #D2E3FC;\n",
              "    }\n",
              "\n",
              "    [theme=dark] .colab-df-convert:hover {\n",
              "      background-color: #434B5C;\n",
              "      box-shadow: 0px 1px 3px 1px rgba(0, 0, 0, 0.15);\n",
              "      filter: drop-shadow(0px 1px 2px rgba(0, 0, 0, 0.3));\n",
              "      fill: #FFFFFF;\n",
              "    }\n",
              "  </style>\n",
              "\n",
              "      <script>\n",
              "        const buttonEl =\n",
              "          document.querySelector('#df-21e790d0-0779-4c7b-ab1d-42bcc96c12b5 button.colab-df-convert');\n",
              "        buttonEl.style.display =\n",
              "          google.colab.kernel.accessAllowed ? 'block' : 'none';\n",
              "\n",
              "        async function convertToInteractive(key) {\n",
              "          const element = document.querySelector('#df-21e790d0-0779-4c7b-ab1d-42bcc96c12b5');\n",
              "          const dataTable =\n",
              "            await google.colab.kernel.invokeFunction('convertToInteractive',\n",
              "                                                     [key], {});\n",
              "          if (!dataTable) return;\n",
              "\n",
              "          const docLinkHtml = 'Like what you see? Visit the ' +\n",
              "            '<a target=\"_blank\" href=https://colab.research.google.com/notebooks/data_table.ipynb>data table notebook</a>'\n",
              "            + ' to learn more about interactive tables.';\n",
              "          element.innerHTML = '';\n",
              "          dataTable['output_type'] = 'display_data';\n",
              "          await google.colab.output.renderOutput(dataTable, element);\n",
              "          const docLink = document.createElement('div');\n",
              "          docLink.innerHTML = docLinkHtml;\n",
              "          element.appendChild(docLink);\n",
              "        }\n",
              "      </script>\n",
              "    </div>\n",
              "  </div>\n",
              "  "
            ]
          },
          "metadata": {},
          "execution_count": 19
        }
      ]
    },
    {
      "cell_type": "markdown",
      "source": [
        "## Descripción de variables"
      ],
      "metadata": {
        "id": "txQToVL_bQfc"
      }
    },
    {
      "cell_type": "code",
      "source": [
        "mis_datos.dtypes"
      ],
      "metadata": {
        "colab": {
          "base_uri": "https://localhost:8080/"
        },
        "id": "sqJLGLDMJRpS",
        "outputId": "6526c0d6-5dcc-46ba-b41b-6e771e47a055"
      },
      "execution_count": null,
      "outputs": [
        {
          "output_type": "execute_result",
          "data": {
            "text/plain": [
              "PassengerId      int64\n",
              "Survived         int64\n",
              "Pclass           int64\n",
              "Name            object\n",
              "Sex             object\n",
              "Age            float64\n",
              "SibSp            int64\n",
              "Parch            int64\n",
              "Ticket          object\n",
              "Fare           float64\n",
              "Cabin           object\n",
              "Embarked        object\n",
              "dtype: object"
            ]
          },
          "metadata": {},
          "execution_count": 23
        }
      ]
    },
    {
      "cell_type": "markdown",
      "source": [
        "**Variables numéricas:** PassengerId, Survived, Pclass, Age, SibSp, Parch, Fare\n",
        "\n",
        "**Variables categóricas:** Name, Sex, Ticket, Cabin, Embarked"
      ],
      "metadata": {
        "id": "eRBRBhXaJobm"
      }
    },
    {
      "cell_type": "code",
      "source": [
        "var_num = ['PassengerId', 'Survived', 'Pclass', 'Age', 'SibSp', 'Parch', 'Fare']\n",
        "var_cat = ['Name', 'Sex', 'Ticket', 'Cabin', 'Embarked']\n",
        "print(var_num)\n",
        "var_cat"
      ],
      "metadata": {
        "colab": {
          "base_uri": "https://localhost:8080/"
        },
        "id": "gn1L1OetKCZr",
        "outputId": "6b512fb3-53f3-4242-b743-f6ad9f257760"
      },
      "execution_count": null,
      "outputs": [
        {
          "output_type": "stream",
          "name": "stdout",
          "text": [
            "['PassengerId', 'Survived', 'Pclass', 'Age', 'SibSp', 'Parch', 'Fare']\n"
          ]
        },
        {
          "output_type": "execute_result",
          "data": {
            "text/plain": [
              "['Name', 'Sex', 'Ticket', 'Cabin', 'Embarked']"
            ]
          },
          "metadata": {},
          "execution_count": 41
        }
      ]
    },
    {
      "cell_type": "code",
      "source": [
        "mis_datos.columns"
      ],
      "metadata": {
        "colab": {
          "base_uri": "https://localhost:8080/"
        },
        "id": "QatX6rrsKhOd",
        "outputId": "830af72a-8169-4dca-bd0d-18ac52ca06b1"
      },
      "execution_count": null,
      "outputs": [
        {
          "output_type": "execute_result",
          "data": {
            "text/plain": [
              "Index(['PassengerId', 'Survived', 'Pclass', 'Name', 'Sex', 'Age', 'SibSp',\n",
              "       'Parch', 'Ticket', 'Fare', 'Cabin', 'Embarked'],\n",
              "      dtype='object')"
            ]
          },
          "metadata": {},
          "execution_count": 38
        }
      ]
    },
    {
      "cell_type": "code",
      "source": [
        "mis_datos.describe()\n",
        "# Esta función te da un resumen estadístico descriptivo del data frame, tal como el promedio, los cuartiles, etc."
      ],
      "metadata": {
        "colab": {
          "base_uri": "https://localhost:8080/",
          "height": 300
        },
        "id": "Ef0l46nrKkRK",
        "outputId": "4d402522-39d8-48e7-ebc8-9e7257408355"
      },
      "execution_count": null,
      "outputs": [
        {
          "output_type": "execute_result",
          "data": {
            "text/plain": [
              "       PassengerId    Survived      Pclass         Age       SibSp  \\\n",
              "count   891.000000  891.000000  891.000000  714.000000  891.000000   \n",
              "mean    446.000000    0.383838    2.308642   29.699118    0.523008   \n",
              "std     257.353842    0.486592    0.836071   14.526497    1.102743   \n",
              "min       1.000000    0.000000    1.000000    0.420000    0.000000   \n",
              "25%     223.500000    0.000000    2.000000   20.125000    0.000000   \n",
              "50%     446.000000    0.000000    3.000000   28.000000    0.000000   \n",
              "75%     668.500000    1.000000    3.000000   38.000000    1.000000   \n",
              "max     891.000000    1.000000    3.000000   80.000000    8.000000   \n",
              "\n",
              "            Parch        Fare  \n",
              "count  891.000000  891.000000  \n",
              "mean     0.381594   32.204208  \n",
              "std      0.806057   49.693429  \n",
              "min      0.000000    0.000000  \n",
              "25%      0.000000    7.910400  \n",
              "50%      0.000000   14.454200  \n",
              "75%      0.000000   31.000000  \n",
              "max      6.000000  512.329200  "
            ],
            "text/html": [
              "\n",
              "  <div id=\"df-f73ae3ad-bbd4-474d-ae1c-af4077802c01\">\n",
              "    <div class=\"colab-df-container\">\n",
              "      <div>\n",
              "<style scoped>\n",
              "    .dataframe tbody tr th:only-of-type {\n",
              "        vertical-align: middle;\n",
              "    }\n",
              "\n",
              "    .dataframe tbody tr th {\n",
              "        vertical-align: top;\n",
              "    }\n",
              "\n",
              "    .dataframe thead th {\n",
              "        text-align: right;\n",
              "    }\n",
              "</style>\n",
              "<table border=\"1\" class=\"dataframe\">\n",
              "  <thead>\n",
              "    <tr style=\"text-align: right;\">\n",
              "      <th></th>\n",
              "      <th>PassengerId</th>\n",
              "      <th>Survived</th>\n",
              "      <th>Pclass</th>\n",
              "      <th>Age</th>\n",
              "      <th>SibSp</th>\n",
              "      <th>Parch</th>\n",
              "      <th>Fare</th>\n",
              "    </tr>\n",
              "  </thead>\n",
              "  <tbody>\n",
              "    <tr>\n",
              "      <th>count</th>\n",
              "      <td>891.000000</td>\n",
              "      <td>891.000000</td>\n",
              "      <td>891.000000</td>\n",
              "      <td>714.000000</td>\n",
              "      <td>891.000000</td>\n",
              "      <td>891.000000</td>\n",
              "      <td>891.000000</td>\n",
              "    </tr>\n",
              "    <tr>\n",
              "      <th>mean</th>\n",
              "      <td>446.000000</td>\n",
              "      <td>0.383838</td>\n",
              "      <td>2.308642</td>\n",
              "      <td>29.699118</td>\n",
              "      <td>0.523008</td>\n",
              "      <td>0.381594</td>\n",
              "      <td>32.204208</td>\n",
              "    </tr>\n",
              "    <tr>\n",
              "      <th>std</th>\n",
              "      <td>257.353842</td>\n",
              "      <td>0.486592</td>\n",
              "      <td>0.836071</td>\n",
              "      <td>14.526497</td>\n",
              "      <td>1.102743</td>\n",
              "      <td>0.806057</td>\n",
              "      <td>49.693429</td>\n",
              "    </tr>\n",
              "    <tr>\n",
              "      <th>min</th>\n",
              "      <td>1.000000</td>\n",
              "      <td>0.000000</td>\n",
              "      <td>1.000000</td>\n",
              "      <td>0.420000</td>\n",
              "      <td>0.000000</td>\n",
              "      <td>0.000000</td>\n",
              "      <td>0.000000</td>\n",
              "    </tr>\n",
              "    <tr>\n",
              "      <th>25%</th>\n",
              "      <td>223.500000</td>\n",
              "      <td>0.000000</td>\n",
              "      <td>2.000000</td>\n",
              "      <td>20.125000</td>\n",
              "      <td>0.000000</td>\n",
              "      <td>0.000000</td>\n",
              "      <td>7.910400</td>\n",
              "    </tr>\n",
              "    <tr>\n",
              "      <th>50%</th>\n",
              "      <td>446.000000</td>\n",
              "      <td>0.000000</td>\n",
              "      <td>3.000000</td>\n",
              "      <td>28.000000</td>\n",
              "      <td>0.000000</td>\n",
              "      <td>0.000000</td>\n",
              "      <td>14.454200</td>\n",
              "    </tr>\n",
              "    <tr>\n",
              "      <th>75%</th>\n",
              "      <td>668.500000</td>\n",
              "      <td>1.000000</td>\n",
              "      <td>3.000000</td>\n",
              "      <td>38.000000</td>\n",
              "      <td>1.000000</td>\n",
              "      <td>0.000000</td>\n",
              "      <td>31.000000</td>\n",
              "    </tr>\n",
              "    <tr>\n",
              "      <th>max</th>\n",
              "      <td>891.000000</td>\n",
              "      <td>1.000000</td>\n",
              "      <td>3.000000</td>\n",
              "      <td>80.000000</td>\n",
              "      <td>8.000000</td>\n",
              "      <td>6.000000</td>\n",
              "      <td>512.329200</td>\n",
              "    </tr>\n",
              "  </tbody>\n",
              "</table>\n",
              "</div>\n",
              "      <button class=\"colab-df-convert\" onclick=\"convertToInteractive('df-f73ae3ad-bbd4-474d-ae1c-af4077802c01')\"\n",
              "              title=\"Convert this dataframe to an interactive table.\"\n",
              "              style=\"display:none;\">\n",
              "        \n",
              "  <svg xmlns=\"http://www.w3.org/2000/svg\" height=\"24px\"viewBox=\"0 0 24 24\"\n",
              "       width=\"24px\">\n",
              "    <path d=\"M0 0h24v24H0V0z\" fill=\"none\"/>\n",
              "    <path d=\"M18.56 5.44l.94 2.06.94-2.06 2.06-.94-2.06-.94-.94-2.06-.94 2.06-2.06.94zm-11 1L8.5 8.5l.94-2.06 2.06-.94-2.06-.94L8.5 2.5l-.94 2.06-2.06.94zm10 10l.94 2.06.94-2.06 2.06-.94-2.06-.94-.94-2.06-.94 2.06-2.06.94z\"/><path d=\"M17.41 7.96l-1.37-1.37c-.4-.4-.92-.59-1.43-.59-.52 0-1.04.2-1.43.59L10.3 9.45l-7.72 7.72c-.78.78-.78 2.05 0 2.83L4 21.41c.39.39.9.59 1.41.59.51 0 1.02-.2 1.41-.59l7.78-7.78 2.81-2.81c.8-.78.8-2.07 0-2.86zM5.41 20L4 18.59l7.72-7.72 1.47 1.35L5.41 20z\"/>\n",
              "  </svg>\n",
              "      </button>\n",
              "      \n",
              "  <style>\n",
              "    .colab-df-container {\n",
              "      display:flex;\n",
              "      flex-wrap:wrap;\n",
              "      gap: 12px;\n",
              "    }\n",
              "\n",
              "    .colab-df-convert {\n",
              "      background-color: #E8F0FE;\n",
              "      border: none;\n",
              "      border-radius: 50%;\n",
              "      cursor: pointer;\n",
              "      display: none;\n",
              "      fill: #1967D2;\n",
              "      height: 32px;\n",
              "      padding: 0 0 0 0;\n",
              "      width: 32px;\n",
              "    }\n",
              "\n",
              "    .colab-df-convert:hover {\n",
              "      background-color: #E2EBFA;\n",
              "      box-shadow: 0px 1px 2px rgba(60, 64, 67, 0.3), 0px 1px 3px 1px rgba(60, 64, 67, 0.15);\n",
              "      fill: #174EA6;\n",
              "    }\n",
              "\n",
              "    [theme=dark] .colab-df-convert {\n",
              "      background-color: #3B4455;\n",
              "      fill: #D2E3FC;\n",
              "    }\n",
              "\n",
              "    [theme=dark] .colab-df-convert:hover {\n",
              "      background-color: #434B5C;\n",
              "      box-shadow: 0px 1px 3px 1px rgba(0, 0, 0, 0.15);\n",
              "      filter: drop-shadow(0px 1px 2px rgba(0, 0, 0, 0.3));\n",
              "      fill: #FFFFFF;\n",
              "    }\n",
              "  </style>\n",
              "\n",
              "      <script>\n",
              "        const buttonEl =\n",
              "          document.querySelector('#df-f73ae3ad-bbd4-474d-ae1c-af4077802c01 button.colab-df-convert');\n",
              "        buttonEl.style.display =\n",
              "          google.colab.kernel.accessAllowed ? 'block' : 'none';\n",
              "\n",
              "        async function convertToInteractive(key) {\n",
              "          const element = document.querySelector('#df-f73ae3ad-bbd4-474d-ae1c-af4077802c01');\n",
              "          const dataTable =\n",
              "            await google.colab.kernel.invokeFunction('convertToInteractive',\n",
              "                                                     [key], {});\n",
              "          if (!dataTable) return;\n",
              "\n",
              "          const docLinkHtml = 'Like what you see? Visit the ' +\n",
              "            '<a target=\"_blank\" href=https://colab.research.google.com/notebooks/data_table.ipynb>data table notebook</a>'\n",
              "            + ' to learn more about interactive tables.';\n",
              "          element.innerHTML = '';\n",
              "          dataTable['output_type'] = 'display_data';\n",
              "          await google.colab.output.renderOutput(dataTable, element);\n",
              "          const docLink = document.createElement('div');\n",
              "          docLink.innerHTML = docLinkHtml;\n",
              "          element.appendChild(docLink);\n",
              "        }\n",
              "      </script>\n",
              "    </div>\n",
              "  </div>\n",
              "  "
            ]
          },
          "metadata": {},
          "execution_count": 28
        }
      ]
    },
    {
      "cell_type": "code",
      "source": [
        "mis_datos.info()\n",
        "# Esta función te da un resumen de las columnas, los datos que hay en cada una de estos, cuántos valores nulos hay y el tipo de cada\n",
        "# una de las columnas"
      ],
      "metadata": {
        "colab": {
          "base_uri": "https://localhost:8080/"
        },
        "id": "_JTWIby2KqIK",
        "outputId": "4ff3bf03-e767-41c5-eaad-dd8ab22b67f2"
      },
      "execution_count": null,
      "outputs": [
        {
          "output_type": "stream",
          "name": "stdout",
          "text": [
            "<class 'pandas.core.frame.DataFrame'>\n",
            "RangeIndex: 891 entries, 0 to 890\n",
            "Data columns (total 12 columns):\n",
            " #   Column       Non-Null Count  Dtype  \n",
            "---  ------       --------------  -----  \n",
            " 0   PassengerId  891 non-null    int64  \n",
            " 1   Survived     891 non-null    int64  \n",
            " 2   Pclass       891 non-null    int64  \n",
            " 3   Name         891 non-null    object \n",
            " 4   Sex          891 non-null    object \n",
            " 5   Age          714 non-null    float64\n",
            " 6   SibSp        891 non-null    int64  \n",
            " 7   Parch        891 non-null    int64  \n",
            " 8   Ticket       891 non-null    object \n",
            " 9   Fare         891 non-null    float64\n",
            " 10  Cabin        204 non-null    object \n",
            " 11  Embarked     889 non-null    object \n",
            "dtypes: float64(2), int64(5), object(5)\n",
            "memory usage: 83.7+ KB\n"
          ]
        }
      ]
    },
    {
      "cell_type": "code",
      "source": [
        "mis_datos.size\n",
        "# Hay 10692 registros en la base de datos"
      ],
      "metadata": {
        "colab": {
          "base_uri": "https://localhost:8080/"
        },
        "id": "MwWsGr2FLO2u",
        "outputId": "70f7d9f0-eb71-4d35-98a3-3824440840fb"
      },
      "execution_count": null,
      "outputs": [
        {
          "output_type": "execute_result",
          "data": {
            "text/plain": [
              "10692"
            ]
          },
          "metadata": {},
          "execution_count": 64
        }
      ]
    },
    {
      "cell_type": "code",
      "source": [
        "missing_values_count=mis_datos.isnull().sum()\n",
        "print(missing_values_count)\n",
        "total_missing = missing_values_count.sum()\n",
        "print('\\nHay un total de: ',total_missing,' valores nulos')\n",
        "# Hay 866 valores nulos"
      ],
      "metadata": {
        "colab": {
          "base_uri": "https://localhost:8080/"
        },
        "id": "g_xARRS3NK5V",
        "outputId": "5b7673cc-baff-4c1a-84ae-a6fa72885ba2"
      },
      "execution_count": null,
      "outputs": [
        {
          "output_type": "stream",
          "name": "stdout",
          "text": [
            "PassengerId      0\n",
            "Survived         0\n",
            "Pclass           0\n",
            "Name             0\n",
            "Sex              0\n",
            "Age            177\n",
            "SibSp            0\n",
            "Parch            0\n",
            "Ticket           0\n",
            "Fare             0\n",
            "Cabin          687\n",
            "Embarked         2\n",
            "dtype: int64\n",
            "\n",
            "Hay un total de:  866  valores nulos\n"
          ]
        }
      ]
    },
    {
      "cell_type": "markdown",
      "source": [
        "En describe() aparecen las siguientes columnas: PassengerId\tSurvived\tPclass\tAge\tSibSp\tParch\tFare"
      ],
      "metadata": {
        "id": "g8Q-4Jd6N-zL"
      }
    },
    {
      "cell_type": "code",
      "source": [
        "mis_datos.Fare.max()\n",
        "# La tarifa más cara es de 512.329200"
      ],
      "metadata": {
        "colab": {
          "base_uri": "https://localhost:8080/"
        },
        "id": "PzDpgR6GR2Jm",
        "outputId": "48c60230-3d87-4216-9e8a-95df47e1399e"
      },
      "execution_count": null,
      "outputs": [
        {
          "output_type": "execute_result",
          "data": {
            "text/plain": [
              "512.3292"
            ]
          },
          "metadata": {},
          "execution_count": 86
        }
      ]
    },
    {
      "cell_type": "code",
      "source": [
        "mis_datos.Age.mean()\n",
        "#El promedio de edad es de 29.699118"
      ],
      "metadata": {
        "colab": {
          "base_uri": "https://localhost:8080/"
        },
        "id": "vxzjXf3BR9Te",
        "outputId": "a3f0e8d3-fc06-4351-b105-858ee81cef0b"
      },
      "execution_count": null,
      "outputs": [
        {
          "output_type": "execute_result",
          "data": {
            "text/plain": [
              "29.69911764705882"
            ]
          },
          "metadata": {},
          "execution_count": 87
        }
      ]
    },
    {
      "cell_type": "code",
      "source": [
        "var_cat"
      ],
      "metadata": {
        "colab": {
          "base_uri": "https://localhost:8080/"
        },
        "id": "V2eBDvelOYRm",
        "outputId": "32a21411-06fa-43aa-d10f-ab6f4e72af6d"
      },
      "execution_count": null,
      "outputs": [
        {
          "output_type": "execute_result",
          "data": {
            "text/plain": [
              "['Name', 'Sex', 'Ticket', 'Cabin', 'Embarked']"
            ]
          },
          "metadata": {},
          "execution_count": 55
        }
      ]
    },
    {
      "cell_type": "code",
      "source": [
        "# Valores únicos de nombres\n",
        "name = mis_datos['Name']\n",
        "name = name.unique()\n",
        "len(name)\n",
        "\n"
      ],
      "metadata": {
        "colab": {
          "base_uri": "https://localhost:8080/"
        },
        "id": "ROcz3e1oOd5T",
        "outputId": "a8d349d2-3bb8-4049-c1e7-ea8eecfd27cc"
      },
      "execution_count": null,
      "outputs": [
        {
          "output_type": "execute_result",
          "data": {
            "text/plain": [
              "891"
            ]
          },
          "metadata": {},
          "execution_count": 85
        }
      ]
    },
    {
      "cell_type": "code",
      "source": [
        "# valores únicos de 'Sex'\n",
        "sex = mis_datos['Sex']\n",
        "sex = sex.unique()\n",
        "len(sex)"
      ],
      "metadata": {
        "colab": {
          "base_uri": "https://localhost:8080/"
        },
        "id": "23TXOwa5RqEW",
        "outputId": "161b8b5e-2b52-4211-89f1-8fe112e61a2d"
      },
      "execution_count": null,
      "outputs": [
        {
          "output_type": "execute_result",
          "data": {
            "text/plain": [
              "2"
            ]
          },
          "metadata": {},
          "execution_count": 88
        }
      ]
    },
    {
      "cell_type": "code",
      "source": [
        "# valores únicos de 'Ticket'\n",
        "ticket = mis_datos['Ticket']\n",
        "ticket = ticket.unique()\n",
        "len(ticket)"
      ],
      "metadata": {
        "colab": {
          "base_uri": "https://localhost:8080/"
        },
        "id": "pLuuDjgqSE-F",
        "outputId": "67216585-a6e4-4290-f294-bcb8936a1b6b"
      },
      "execution_count": null,
      "outputs": [
        {
          "output_type": "execute_result",
          "data": {
            "text/plain": [
              "681"
            ]
          },
          "metadata": {},
          "execution_count": 90
        }
      ]
    },
    {
      "cell_type": "code",
      "source": [
        "# valores únicos de 'Cabin'\n",
        "cabin = mis_datos['Cabin']\n",
        "cabin = cabin.unique()\n",
        "len(cabin)\n"
      ],
      "metadata": {
        "colab": {
          "base_uri": "https://localhost:8080/"
        },
        "id": "yLc-OCUjSObU",
        "outputId": "6b6839c2-2290-43b5-9888-b18f18cd2b1c"
      },
      "execution_count": null,
      "outputs": [
        {
          "output_type": "execute_result",
          "data": {
            "text/plain": [
              "148"
            ]
          },
          "metadata": {},
          "execution_count": 94
        }
      ]
    },
    {
      "cell_type": "code",
      "source": [
        "# valores únicos de 'Embarked'\n",
        "Embarked = mis_datos['Embarked']\n",
        "Embarked = Embarked.unique()\n",
        "len(Embarked)"
      ],
      "metadata": {
        "colab": {
          "base_uri": "https://localhost:8080/"
        },
        "id": "wDWt74uDSU3M",
        "outputId": "6db4a8c0-64c2-49ed-dbe2-c61012fd7b2f"
      },
      "execution_count": null,
      "outputs": [
        {
          "output_type": "execute_result",
          "data": {
            "text/plain": [
              "4"
            ]
          },
          "metadata": {},
          "execution_count": 92
        }
      ]
    },
    {
      "cell_type": "markdown",
      "source": [
        "## Análisis de datos"
      ],
      "metadata": {
        "id": "CRajAX77O4mr"
      }
    },
    {
      "cell_type": "code",
      "source": [
        "mis_datos['Fare'].sum()"
      ],
      "metadata": {
        "colab": {
          "base_uri": "https://localhost:8080/"
        },
        "id": "_AXSvZivO6pD",
        "outputId": "18c55071-e0c2-42a7-c8e5-e0c1b6a7c360"
      },
      "execution_count": null,
      "outputs": [
        {
          "output_type": "execute_result",
          "data": {
            "text/plain": [
              "28693.9493"
            ]
          },
          "metadata": {},
          "execution_count": 65
        }
      ]
    },
    {
      "cell_type": "code",
      "source": [
        "survived = mis_datos[mis_datos['Survived'] == 1]\n",
        "survived.head(5)"
      ],
      "metadata": {
        "colab": {
          "base_uri": "https://localhost:8080/",
          "height": 206
        },
        "id": "jFHdSH7KQBb-",
        "outputId": "ed38352c-e759-4560-fc07-f3ec4d10d7bb"
      },
      "execution_count": null,
      "outputs": [
        {
          "output_type": "execute_result",
          "data": {
            "text/plain": [
              "   PassengerId  Survived  Pclass  \\\n",
              "1            2         1       1   \n",
              "2            3         1       3   \n",
              "3            4         1       1   \n",
              "8            9         1       3   \n",
              "9           10         1       2   \n",
              "\n",
              "                                                Name     Sex   Age  SibSp  \\\n",
              "1  Cumings, Mrs. John Bradley (Florence Briggs Th...  female  38.0      1   \n",
              "2                             Heikkinen, Miss. Laina  female  26.0      0   \n",
              "3       Futrelle, Mrs. Jacques Heath (Lily May Peel)  female  35.0      1   \n",
              "8  Johnson, Mrs. Oscar W (Elisabeth Vilhelmina Berg)  female  27.0      0   \n",
              "9                Nasser, Mrs. Nicholas (Adele Achem)  female  14.0      1   \n",
              "\n",
              "   Parch            Ticket     Fare Cabin Embarked  \n",
              "1      0          PC 17599  71.2833   C85        C  \n",
              "2      0  STON/O2. 3101282   7.9250   NaN        S  \n",
              "3      0            113803  53.1000  C123        S  \n",
              "8      2            347742  11.1333   NaN        S  \n",
              "9      0            237736  30.0708   NaN        C  "
            ],
            "text/html": [
              "\n",
              "  <div id=\"df-ef779c02-7c72-455e-8aff-49461a04b99d\">\n",
              "    <div class=\"colab-df-container\">\n",
              "      <div>\n",
              "<style scoped>\n",
              "    .dataframe tbody tr th:only-of-type {\n",
              "        vertical-align: middle;\n",
              "    }\n",
              "\n",
              "    .dataframe tbody tr th {\n",
              "        vertical-align: top;\n",
              "    }\n",
              "\n",
              "    .dataframe thead th {\n",
              "        text-align: right;\n",
              "    }\n",
              "</style>\n",
              "<table border=\"1\" class=\"dataframe\">\n",
              "  <thead>\n",
              "    <tr style=\"text-align: right;\">\n",
              "      <th></th>\n",
              "      <th>PassengerId</th>\n",
              "      <th>Survived</th>\n",
              "      <th>Pclass</th>\n",
              "      <th>Name</th>\n",
              "      <th>Sex</th>\n",
              "      <th>Age</th>\n",
              "      <th>SibSp</th>\n",
              "      <th>Parch</th>\n",
              "      <th>Ticket</th>\n",
              "      <th>Fare</th>\n",
              "      <th>Cabin</th>\n",
              "      <th>Embarked</th>\n",
              "    </tr>\n",
              "  </thead>\n",
              "  <tbody>\n",
              "    <tr>\n",
              "      <th>1</th>\n",
              "      <td>2</td>\n",
              "      <td>1</td>\n",
              "      <td>1</td>\n",
              "      <td>Cumings, Mrs. John Bradley (Florence Briggs Th...</td>\n",
              "      <td>female</td>\n",
              "      <td>38.0</td>\n",
              "      <td>1</td>\n",
              "      <td>0</td>\n",
              "      <td>PC 17599</td>\n",
              "      <td>71.2833</td>\n",
              "      <td>C85</td>\n",
              "      <td>C</td>\n",
              "    </tr>\n",
              "    <tr>\n",
              "      <th>2</th>\n",
              "      <td>3</td>\n",
              "      <td>1</td>\n",
              "      <td>3</td>\n",
              "      <td>Heikkinen, Miss. Laina</td>\n",
              "      <td>female</td>\n",
              "      <td>26.0</td>\n",
              "      <td>0</td>\n",
              "      <td>0</td>\n",
              "      <td>STON/O2. 3101282</td>\n",
              "      <td>7.9250</td>\n",
              "      <td>NaN</td>\n",
              "      <td>S</td>\n",
              "    </tr>\n",
              "    <tr>\n",
              "      <th>3</th>\n",
              "      <td>4</td>\n",
              "      <td>1</td>\n",
              "      <td>1</td>\n",
              "      <td>Futrelle, Mrs. Jacques Heath (Lily May Peel)</td>\n",
              "      <td>female</td>\n",
              "      <td>35.0</td>\n",
              "      <td>1</td>\n",
              "      <td>0</td>\n",
              "      <td>113803</td>\n",
              "      <td>53.1000</td>\n",
              "      <td>C123</td>\n",
              "      <td>S</td>\n",
              "    </tr>\n",
              "    <tr>\n",
              "      <th>8</th>\n",
              "      <td>9</td>\n",
              "      <td>1</td>\n",
              "      <td>3</td>\n",
              "      <td>Johnson, Mrs. Oscar W (Elisabeth Vilhelmina Berg)</td>\n",
              "      <td>female</td>\n",
              "      <td>27.0</td>\n",
              "      <td>0</td>\n",
              "      <td>2</td>\n",
              "      <td>347742</td>\n",
              "      <td>11.1333</td>\n",
              "      <td>NaN</td>\n",
              "      <td>S</td>\n",
              "    </tr>\n",
              "    <tr>\n",
              "      <th>9</th>\n",
              "      <td>10</td>\n",
              "      <td>1</td>\n",
              "      <td>2</td>\n",
              "      <td>Nasser, Mrs. Nicholas (Adele Achem)</td>\n",
              "      <td>female</td>\n",
              "      <td>14.0</td>\n",
              "      <td>1</td>\n",
              "      <td>0</td>\n",
              "      <td>237736</td>\n",
              "      <td>30.0708</td>\n",
              "      <td>NaN</td>\n",
              "      <td>C</td>\n",
              "    </tr>\n",
              "  </tbody>\n",
              "</table>\n",
              "</div>\n",
              "      <button class=\"colab-df-convert\" onclick=\"convertToInteractive('df-ef779c02-7c72-455e-8aff-49461a04b99d')\"\n",
              "              title=\"Convert this dataframe to an interactive table.\"\n",
              "              style=\"display:none;\">\n",
              "        \n",
              "  <svg xmlns=\"http://www.w3.org/2000/svg\" height=\"24px\"viewBox=\"0 0 24 24\"\n",
              "       width=\"24px\">\n",
              "    <path d=\"M0 0h24v24H0V0z\" fill=\"none\"/>\n",
              "    <path d=\"M18.56 5.44l.94 2.06.94-2.06 2.06-.94-2.06-.94-.94-2.06-.94 2.06-2.06.94zm-11 1L8.5 8.5l.94-2.06 2.06-.94-2.06-.94L8.5 2.5l-.94 2.06-2.06.94zm10 10l.94 2.06.94-2.06 2.06-.94-2.06-.94-.94-2.06-.94 2.06-2.06.94z\"/><path d=\"M17.41 7.96l-1.37-1.37c-.4-.4-.92-.59-1.43-.59-.52 0-1.04.2-1.43.59L10.3 9.45l-7.72 7.72c-.78.78-.78 2.05 0 2.83L4 21.41c.39.39.9.59 1.41.59.51 0 1.02-.2 1.41-.59l7.78-7.78 2.81-2.81c.8-.78.8-2.07 0-2.86zM5.41 20L4 18.59l7.72-7.72 1.47 1.35L5.41 20z\"/>\n",
              "  </svg>\n",
              "      </button>\n",
              "      \n",
              "  <style>\n",
              "    .colab-df-container {\n",
              "      display:flex;\n",
              "      flex-wrap:wrap;\n",
              "      gap: 12px;\n",
              "    }\n",
              "\n",
              "    .colab-df-convert {\n",
              "      background-color: #E8F0FE;\n",
              "      border: none;\n",
              "      border-radius: 50%;\n",
              "      cursor: pointer;\n",
              "      display: none;\n",
              "      fill: #1967D2;\n",
              "      height: 32px;\n",
              "      padding: 0 0 0 0;\n",
              "      width: 32px;\n",
              "    }\n",
              "\n",
              "    .colab-df-convert:hover {\n",
              "      background-color: #E2EBFA;\n",
              "      box-shadow: 0px 1px 2px rgba(60, 64, 67, 0.3), 0px 1px 3px 1px rgba(60, 64, 67, 0.15);\n",
              "      fill: #174EA6;\n",
              "    }\n",
              "\n",
              "    [theme=dark] .colab-df-convert {\n",
              "      background-color: #3B4455;\n",
              "      fill: #D2E3FC;\n",
              "    }\n",
              "\n",
              "    [theme=dark] .colab-df-convert:hover {\n",
              "      background-color: #434B5C;\n",
              "      box-shadow: 0px 1px 3px 1px rgba(0, 0, 0, 0.15);\n",
              "      filter: drop-shadow(0px 1px 2px rgba(0, 0, 0, 0.3));\n",
              "      fill: #FFFFFF;\n",
              "    }\n",
              "  </style>\n",
              "\n",
              "      <script>\n",
              "        const buttonEl =\n",
              "          document.querySelector('#df-ef779c02-7c72-455e-8aff-49461a04b99d button.colab-df-convert');\n",
              "        buttonEl.style.display =\n",
              "          google.colab.kernel.accessAllowed ? 'block' : 'none';\n",
              "\n",
              "        async function convertToInteractive(key) {\n",
              "          const element = document.querySelector('#df-ef779c02-7c72-455e-8aff-49461a04b99d');\n",
              "          const dataTable =\n",
              "            await google.colab.kernel.invokeFunction('convertToInteractive',\n",
              "                                                     [key], {});\n",
              "          if (!dataTable) return;\n",
              "\n",
              "          const docLinkHtml = 'Like what you see? Visit the ' +\n",
              "            '<a target=\"_blank\" href=https://colab.research.google.com/notebooks/data_table.ipynb>data table notebook</a>'\n",
              "            + ' to learn more about interactive tables.';\n",
              "          element.innerHTML = '';\n",
              "          dataTable['output_type'] = 'display_data';\n",
              "          await google.colab.output.renderOutput(dataTable, element);\n",
              "          const docLink = document.createElement('div');\n",
              "          docLink.innerHTML = docLinkHtml;\n",
              "          element.appendChild(docLink);\n",
              "        }\n",
              "      </script>\n",
              "    </div>\n",
              "  </div>\n",
              "  "
            ]
          },
          "metadata": {},
          "execution_count": 99
        }
      ]
    },
    {
      "cell_type": "code",
      "source": [
        "died = mis_datos[mis_datos['Survived'] == 0]\n",
        "died.head(5)"
      ],
      "metadata": {
        "colab": {
          "base_uri": "https://localhost:8080/",
          "height": 206
        },
        "id": "bWV8K7iTTFu9",
        "outputId": "50677ba3-88df-4758-8bdc-5300581b7caf"
      },
      "execution_count": null,
      "outputs": [
        {
          "output_type": "execute_result",
          "data": {
            "text/plain": [
              "   PassengerId  Survived  Pclass                            Name   Sex   Age  \\\n",
              "0            1         0       3         Braund, Mr. Owen Harris  male  22.0   \n",
              "4            5         0       3        Allen, Mr. William Henry  male  35.0   \n",
              "5            6         0       3                Moran, Mr. James  male   NaN   \n",
              "6            7         0       1         McCarthy, Mr. Timothy J  male  54.0   \n",
              "7            8         0       3  Palsson, Master. Gosta Leonard  male   2.0   \n",
              "\n",
              "   SibSp  Parch     Ticket     Fare Cabin Embarked  \n",
              "0      1      0  A/5 21171   7.2500   NaN        S  \n",
              "4      0      0     373450   8.0500   NaN        S  \n",
              "5      0      0     330877   8.4583   NaN        Q  \n",
              "6      0      0      17463  51.8625   E46        S  \n",
              "7      3      1     349909  21.0750   NaN        S  "
            ],
            "text/html": [
              "\n",
              "  <div id=\"df-2b0ebd3d-b876-4e23-9f24-81bb25b177fa\">\n",
              "    <div class=\"colab-df-container\">\n",
              "      <div>\n",
              "<style scoped>\n",
              "    .dataframe tbody tr th:only-of-type {\n",
              "        vertical-align: middle;\n",
              "    }\n",
              "\n",
              "    .dataframe tbody tr th {\n",
              "        vertical-align: top;\n",
              "    }\n",
              "\n",
              "    .dataframe thead th {\n",
              "        text-align: right;\n",
              "    }\n",
              "</style>\n",
              "<table border=\"1\" class=\"dataframe\">\n",
              "  <thead>\n",
              "    <tr style=\"text-align: right;\">\n",
              "      <th></th>\n",
              "      <th>PassengerId</th>\n",
              "      <th>Survived</th>\n",
              "      <th>Pclass</th>\n",
              "      <th>Name</th>\n",
              "      <th>Sex</th>\n",
              "      <th>Age</th>\n",
              "      <th>SibSp</th>\n",
              "      <th>Parch</th>\n",
              "      <th>Ticket</th>\n",
              "      <th>Fare</th>\n",
              "      <th>Cabin</th>\n",
              "      <th>Embarked</th>\n",
              "    </tr>\n",
              "  </thead>\n",
              "  <tbody>\n",
              "    <tr>\n",
              "      <th>0</th>\n",
              "      <td>1</td>\n",
              "      <td>0</td>\n",
              "      <td>3</td>\n",
              "      <td>Braund, Mr. Owen Harris</td>\n",
              "      <td>male</td>\n",
              "      <td>22.0</td>\n",
              "      <td>1</td>\n",
              "      <td>0</td>\n",
              "      <td>A/5 21171</td>\n",
              "      <td>7.2500</td>\n",
              "      <td>NaN</td>\n",
              "      <td>S</td>\n",
              "    </tr>\n",
              "    <tr>\n",
              "      <th>4</th>\n",
              "      <td>5</td>\n",
              "      <td>0</td>\n",
              "      <td>3</td>\n",
              "      <td>Allen, Mr. William Henry</td>\n",
              "      <td>male</td>\n",
              "      <td>35.0</td>\n",
              "      <td>0</td>\n",
              "      <td>0</td>\n",
              "      <td>373450</td>\n",
              "      <td>8.0500</td>\n",
              "      <td>NaN</td>\n",
              "      <td>S</td>\n",
              "    </tr>\n",
              "    <tr>\n",
              "      <th>5</th>\n",
              "      <td>6</td>\n",
              "      <td>0</td>\n",
              "      <td>3</td>\n",
              "      <td>Moran, Mr. James</td>\n",
              "      <td>male</td>\n",
              "      <td>NaN</td>\n",
              "      <td>0</td>\n",
              "      <td>0</td>\n",
              "      <td>330877</td>\n",
              "      <td>8.4583</td>\n",
              "      <td>NaN</td>\n",
              "      <td>Q</td>\n",
              "    </tr>\n",
              "    <tr>\n",
              "      <th>6</th>\n",
              "      <td>7</td>\n",
              "      <td>0</td>\n",
              "      <td>1</td>\n",
              "      <td>McCarthy, Mr. Timothy J</td>\n",
              "      <td>male</td>\n",
              "      <td>54.0</td>\n",
              "      <td>0</td>\n",
              "      <td>0</td>\n",
              "      <td>17463</td>\n",
              "      <td>51.8625</td>\n",
              "      <td>E46</td>\n",
              "      <td>S</td>\n",
              "    </tr>\n",
              "    <tr>\n",
              "      <th>7</th>\n",
              "      <td>8</td>\n",
              "      <td>0</td>\n",
              "      <td>3</td>\n",
              "      <td>Palsson, Master. Gosta Leonard</td>\n",
              "      <td>male</td>\n",
              "      <td>2.0</td>\n",
              "      <td>3</td>\n",
              "      <td>1</td>\n",
              "      <td>349909</td>\n",
              "      <td>21.0750</td>\n",
              "      <td>NaN</td>\n",
              "      <td>S</td>\n",
              "    </tr>\n",
              "  </tbody>\n",
              "</table>\n",
              "</div>\n",
              "      <button class=\"colab-df-convert\" onclick=\"convertToInteractive('df-2b0ebd3d-b876-4e23-9f24-81bb25b177fa')\"\n",
              "              title=\"Convert this dataframe to an interactive table.\"\n",
              "              style=\"display:none;\">\n",
              "        \n",
              "  <svg xmlns=\"http://www.w3.org/2000/svg\" height=\"24px\"viewBox=\"0 0 24 24\"\n",
              "       width=\"24px\">\n",
              "    <path d=\"M0 0h24v24H0V0z\" fill=\"none\"/>\n",
              "    <path d=\"M18.56 5.44l.94 2.06.94-2.06 2.06-.94-2.06-.94-.94-2.06-.94 2.06-2.06.94zm-11 1L8.5 8.5l.94-2.06 2.06-.94-2.06-.94L8.5 2.5l-.94 2.06-2.06.94zm10 10l.94 2.06.94-2.06 2.06-.94-2.06-.94-.94-2.06-.94 2.06-2.06.94z\"/><path d=\"M17.41 7.96l-1.37-1.37c-.4-.4-.92-.59-1.43-.59-.52 0-1.04.2-1.43.59L10.3 9.45l-7.72 7.72c-.78.78-.78 2.05 0 2.83L4 21.41c.39.39.9.59 1.41.59.51 0 1.02-.2 1.41-.59l7.78-7.78 2.81-2.81c.8-.78.8-2.07 0-2.86zM5.41 20L4 18.59l7.72-7.72 1.47 1.35L5.41 20z\"/>\n",
              "  </svg>\n",
              "      </button>\n",
              "      \n",
              "  <style>\n",
              "    .colab-df-container {\n",
              "      display:flex;\n",
              "      flex-wrap:wrap;\n",
              "      gap: 12px;\n",
              "    }\n",
              "\n",
              "    .colab-df-convert {\n",
              "      background-color: #E8F0FE;\n",
              "      border: none;\n",
              "      border-radius: 50%;\n",
              "      cursor: pointer;\n",
              "      display: none;\n",
              "      fill: #1967D2;\n",
              "      height: 32px;\n",
              "      padding: 0 0 0 0;\n",
              "      width: 32px;\n",
              "    }\n",
              "\n",
              "    .colab-df-convert:hover {\n",
              "      background-color: #E2EBFA;\n",
              "      box-shadow: 0px 1px 2px rgba(60, 64, 67, 0.3), 0px 1px 3px 1px rgba(60, 64, 67, 0.15);\n",
              "      fill: #174EA6;\n",
              "    }\n",
              "\n",
              "    [theme=dark] .colab-df-convert {\n",
              "      background-color: #3B4455;\n",
              "      fill: #D2E3FC;\n",
              "    }\n",
              "\n",
              "    [theme=dark] .colab-df-convert:hover {\n",
              "      background-color: #434B5C;\n",
              "      box-shadow: 0px 1px 3px 1px rgba(0, 0, 0, 0.15);\n",
              "      filter: drop-shadow(0px 1px 2px rgba(0, 0, 0, 0.3));\n",
              "      fill: #FFFFFF;\n",
              "    }\n",
              "  </style>\n",
              "\n",
              "      <script>\n",
              "        const buttonEl =\n",
              "          document.querySelector('#df-2b0ebd3d-b876-4e23-9f24-81bb25b177fa button.colab-df-convert');\n",
              "        buttonEl.style.display =\n",
              "          google.colab.kernel.accessAllowed ? 'block' : 'none';\n",
              "\n",
              "        async function convertToInteractive(key) {\n",
              "          const element = document.querySelector('#df-2b0ebd3d-b876-4e23-9f24-81bb25b177fa');\n",
              "          const dataTable =\n",
              "            await google.colab.kernel.invokeFunction('convertToInteractive',\n",
              "                                                     [key], {});\n",
              "          if (!dataTable) return;\n",
              "\n",
              "          const docLinkHtml = 'Like what you see? Visit the ' +\n",
              "            '<a target=\"_blank\" href=https://colab.research.google.com/notebooks/data_table.ipynb>data table notebook</a>'\n",
              "            + ' to learn more about interactive tables.';\n",
              "          element.innerHTML = '';\n",
              "          dataTable['output_type'] = 'display_data';\n",
              "          await google.colab.output.renderOutput(dataTable, element);\n",
              "          const docLink = document.createElement('div');\n",
              "          docLink.innerHTML = docLinkHtml;\n",
              "          element.appendChild(docLink);\n",
              "        }\n",
              "      </script>\n",
              "    </div>\n",
              "  </div>\n",
              "  "
            ]
          },
          "metadata": {},
          "execution_count": 98
        }
      ]
    },
    {
      "cell_type": "markdown",
      "source": [
        "![colab.png](data:image/png;base64,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)"
      ],
      "metadata": {
        "id": "s6YI5_DTXBij"
      }
    }
  ]
}